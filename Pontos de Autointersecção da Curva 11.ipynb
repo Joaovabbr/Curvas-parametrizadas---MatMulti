{
 "cells": [
  {
   "cell_type": "markdown",
   "id": "f8d97452",
   "metadata": {},
   "source": [
    "\\[\n",
    "\\gamma(t) = (-2 \\cos(t) - \\cos(5t) , -2 \\sin(t) - \\sin(5t)), \\quad t \\in [0,2\\pi[\n",
    "\\]"
   ]
  },
  {
   "cell_type": "code",
   "execution_count": 5,
   "id": "4862660e",
   "metadata": {},
   "outputs": [],
   "source": [
    "import numpy as np \n",
    "import math as mt \n",
    "from math import cos \n",
    "from math import pi \n",
    "from math import sin \n",
    "from collections import Counter"
   ]
  },
  {
   "cell_type": "markdown",
   "id": "b97fd346",
   "metadata": {},
   "source": [
    "<h1> Raciocínio Modelo para achar uma AutoInterseccção"
   ]
  },
  {
   "cell_type": "code",
   "execution_count": 13,
   "id": "9c51a05e",
   "metadata": {},
   "outputs": [],
   "source": [
    "def x(t):\n",
    "    return -2 * cos(t) - cos(5*t)"
   ]
  },
  {
   "cell_type": "code",
   "execution_count": 14,
   "id": "d29842a4",
   "metadata": {},
   "outputs": [],
   "source": [
    "def y(t):\n",
    "    return -2 * sin(t) - sin(5 *t)"
   ]
  },
  {
   "cell_type": "code",
   "execution_count": 9,
   "id": "f63d2ffd",
   "metadata": {},
   "outputs": [
    {
     "ename": "IndexError",
     "evalue": "list index out of range",
     "output_type": "error",
     "traceback": [
      "\u001b[1;31m---------------------------------------------------------------------------\u001b[0m",
      "\u001b[1;31mIndexError\u001b[0m                                Traceback (most recent call last)",
      "\u001b[1;32m~\\AppData\\Local\\Temp\\ipykernel_8056\\3526417193.py\u001b[0m in \u001b[0;36m<module>\u001b[1;34m\u001b[0m\n\u001b[0;32m     14\u001b[0m \u001b[1;33m\u001b[0m\u001b[0m\n\u001b[0;32m     15\u001b[0m \u001b[0ma\u001b[0m \u001b[1;33m=\u001b[0m \u001b[0mcalcula_b\u001b[0m\u001b[1;33m(\u001b[0m\u001b[1;33m)\u001b[0m\u001b[1;33m\u001b[0m\u001b[1;33m\u001b[0m\u001b[0m\n\u001b[1;32m---> 16\u001b[1;33m \u001b[0mb\u001b[0m \u001b[1;33m=\u001b[0m \u001b[0ma\u001b[0m\u001b[1;33m[\u001b[0m\u001b[1;36m0\u001b[0m\u001b[1;33m]\u001b[0m\u001b[1;33m\u001b[0m\u001b[1;33m\u001b[0m\u001b[0m\n\u001b[0m\u001b[0;32m     17\u001b[0m \u001b[0mb\u001b[0m\u001b[1;33m\u001b[0m\u001b[1;33m\u001b[0m\u001b[0m\n",
      "\u001b[1;31mIndexError\u001b[0m: list index out of range"
     ]
    }
   ],
   "source": [
    "def calcula_b(): \n",
    "    \n",
    "    lista_b = np.arange(0 , 2*pi , 1e-6)\n",
    "    lista_valores = []\n",
    "    for b in lista_b:\n",
    "        \n",
    "        equacao = -2*sin(b/2) -sin(-5*b/2)\n",
    "        \n",
    "        if equacao < 1e-6 and equacao > 1e-6 and b!= 0 and b!= 2*pi:\n",
    "            lista_valores.append(b)\n",
    "            break\n",
    "            \n",
    "    return lista_valores \n",
    "\n",
    "a = calcula_b()\n",
    "b = a[0]\n",
    "b"
   ]
  },
  {
   "cell_type": "code",
   "execution_count": 15,
   "id": "1193ae4f",
   "metadata": {},
   "outputs": [],
   "source": [
    "def acha_u(b): \n",
    "    \n",
    "    u = ((pi / 2 ) - b) / 2 \n",
    "    v = (pi / 2) - u\n",
    "    return u,v"
   ]
  },
  {
   "cell_type": "code",
   "execution_count": null,
   "id": "51dc2980",
   "metadata": {},
   "outputs": [],
   "source": [
    "u , v = acha_u(b)"
   ]
  },
  {
   "cell_type": "code",
   "execution_count": null,
   "id": "1603d492",
   "metadata": {},
   "outputs": [],
   "source": [
    "print('O valor de u é {0} e o valor de v é {1}'.format(u , v))"
   ]
  },
  {
   "cell_type": "code",
   "execution_count": 16,
   "id": "a6a2340b",
   "metadata": {},
   "outputs": [],
   "source": [
    "def autointerseccao(t): \n",
    "    \n",
    "    return [x(t) , y(t)]"
   ]
  },
  {
   "cell_type": "code",
   "execution_count": null,
   "id": "9c914b7a",
   "metadata": {},
   "outputs": [],
   "source": [
    "autointerseccao_1 = autointerseccao(u)\n",
    "print('O primeiro ponto de AutoInterseccção é {0}'.format(autointerseccao_1))"
   ]
  },
  {
   "cell_type": "markdown",
   "id": "fecb3422",
   "metadata": {},
   "source": [
    "<h1> Raciocínio Geral </h1> "
   ]
  },
  {
   "cell_type": "code",
   "execution_count": 11,
   "id": "0f25efad",
   "metadata": {
    "scrolled": true
   },
   "outputs": [
    {
     "name": "stdout",
     "output_type": "stream",
     "text": [
      "A constante é -2.0000000000000004\n",
      "A valor de b para a constante -2.0000000000000004 é 0.8613839999999999\n",
      "A valor de b para a constante -2.0000000000000004 é 5.421800999999999\n",
      "A valor de b para a constante -2.0000000000000004 é 6.283185\n",
      "A constante é 2.0\n",
      "A constante é -1.9999999999999976\n",
      "A constante é 0.39999999999999997\n",
      "A valor de b para a constante 0.39999999999999997 é 1.358222\n",
      "A valor de b para a constante 0.39999999999999997 é 2.3616829999999998\n",
      "A valor de b para a constante 0.39999999999999997 é 3.921502\n",
      "A constante é -1.9999999999999998\n",
      "A constante é 2.0\n",
      "A constante é -1.9999999999999964\n"
     ]
    }
   ],
   "source": [
    "lista_k = [1 ,2 , 3, 4 ,5 ,6 , 7 ]\n",
    "lista_b = np.arange(0 , 2*pi , 1e-6)\n",
    "lista_bs = []\n",
    "\n",
    "\n",
    "for k in lista_k:\n",
    "    \n",
    "    a = k * (pi / 2)\n",
    "    \n",
    "    constante = 2 * sin(a / 2 ) / sin(5 * a /2 )\n",
    "    \n",
    "    print('A constante é {0}'.format(constante))\n",
    "    \n",
    "    for b in lista_b: \n",
    "        \n",
    "        equacao = constante *sin(b/2) - sin(-5*b/2)\n",
    "\n",
    "        if equacao < 1e-6 and equacao > -1e-6 and b!= 0 and b!= 2*pi:\n",
    "            if b not in lista_bs:\n",
    "                lista_bs.append(b)\n",
    "                print('A valor de b para a constante {0} é {1}'.format(constante , b))\n",
    "                \n",
    "    "
   ]
  },
  {
   "cell_type": "code",
   "execution_count": 17,
   "id": "8dc336bf",
   "metadata": {},
   "outputs": [
    {
     "data": {
      "text/plain": [
       "[-2.850793998040391, -0.7189459648905764]"
      ]
     },
     "execution_count": 17,
     "metadata": {},
     "output_type": "execute_result"
    }
   ],
   "source": [
    "u, v = acha_u(1.358222)\n",
    "autointerseccao(u)"
   ]
  },
  {
   "cell_type": "code",
   "execution_count": null,
   "id": "c7c5d9af",
   "metadata": {},
   "outputs": [],
   "source": []
  },
  {
   "cell_type": "code",
   "execution_count": null,
   "id": "eac927a0",
   "metadata": {},
   "outputs": [],
   "source": []
  }
 ],
 "metadata": {
  "kernelspec": {
   "display_name": "Python 3 (ipykernel)",
   "language": "python",
   "name": "python3"
  },
  "language_info": {
   "codemirror_mode": {
    "name": "ipython",
    "version": 3
   },
   "file_extension": ".py",
   "mimetype": "text/x-python",
   "name": "python",
   "nbconvert_exporter": "python",
   "pygments_lexer": "ipython3",
   "version": "3.9.13"
  }
 },
 "nbformat": 4,
 "nbformat_minor": 5
}
