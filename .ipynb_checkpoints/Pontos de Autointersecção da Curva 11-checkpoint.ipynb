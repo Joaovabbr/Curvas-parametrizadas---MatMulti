{
 "cells": [
  {
   "cell_type": "markdown",
   "id": "f8d97452",
   "metadata": {},
   "source": [
    "\\[\n",
    "\\gamma(t) = (-2 \\cos(t) - \\cos(5t) , -2 \\sin(t) - \\sin(5t)), \\quad t \\in [0,2\\pi[\n",
    "\\]"
   ]
  },
  {
   "cell_type": "code",
   "execution_count": 3,
   "id": "4862660e",
   "metadata": {},
   "outputs": [],
   "source": [
    "import numpy as np \n",
    "import math as mt \n",
    "from math import cos \n",
    "from math import pi \n",
    "from math import sin \n",
    "from collections import Counter"
   ]
  },
  {
   "cell_type": "markdown",
   "id": "b97fd346",
   "metadata": {},
   "source": [
    "<h1> Raciocínio Modelo para achar uma AutoInterseccção"
   ]
  },
  {
   "cell_type": "code",
   "execution_count": 4,
   "id": "9c51a05e",
   "metadata": {},
   "outputs": [],
   "source": [
    "def x(t):\n",
    "    return -2 * cos(t) - cos(5*t)"
   ]
  },
  {
   "cell_type": "code",
   "execution_count": 5,
   "id": "d29842a4",
   "metadata": {},
   "outputs": [],
   "source": [
    "def y(t):\n",
    "    return -2 * sin(t) - sin(5 *t)"
   ]
  },
  {
   "cell_type": "code",
   "execution_count": 6,
   "id": "f63d2ffd",
   "metadata": {},
   "outputs": [
    {
     "data": {
      "text/plain": [
       "0.8613839999999999"
      ]
     },
     "execution_count": 6,
     "metadata": {},
     "output_type": "execute_result"
    }
   ],
   "source": [
    "def calcula_b(): \n",
    "    \n",
    "    lista_b = np.arange(0 , 2*pi , 1e-6)\n",
    "    lista_valores = []\n",
    "    for b in lista_b:\n",
    "        \n",
    "        equacao = -2*sin(b/2) -sin(-5*b/2)\n",
    "        \n",
    "        if equacao < 1e-6 and equacao >= 0 and b!= 0 and b!= 2*pi:\n",
    "            lista_valores.append(b)\n",
    "            break\n",
    "            \n",
    "    return lista_valores \n",
    "\n",
    "a = calcula_b()\n",
    "b = a[0]\n",
    "b"
   ]
  },
  {
   "cell_type": "code",
   "execution_count": 7,
   "id": "1193ae4f",
   "metadata": {},
   "outputs": [],
   "source": [
    "def acha_u(b): \n",
    "    \n",
    "    u = ((pi / 2 ) - b) / 2 \n",
    "    v = (pi / 2) - u\n",
    "    return u,v"
   ]
  },
  {
   "cell_type": "code",
   "execution_count": 8,
   "id": "51dc2980",
   "metadata": {},
   "outputs": [],
   "source": [
    "u , v = acha_u(b)"
   ]
  },
  {
   "cell_type": "code",
   "execution_count": 9,
   "id": "1603d492",
   "metadata": {},
   "outputs": [
    {
     "name": "stdout",
     "output_type": "stream",
     "text": [
      "O valor de u é 0.3547061633974483 e o valor de v é 1.2160901633974484\n"
     ]
    }
   ],
   "source": [
    "print('O valor de u é {0} e o valor de v é {1}'.format(u , v))"
   ]
  },
  {
   "cell_type": "code",
   "execution_count": 10,
   "id": "a6a2340b",
   "metadata": {},
   "outputs": [],
   "source": [
    "def autointerseccao(t): \n",
    "    \n",
    "    return [x(t) , y(t)]"
   ]
  },
  {
   "cell_type": "code",
   "execution_count": 11,
   "id": "9c914b7a",
   "metadata": {},
   "outputs": [
    {
     "name": "stdout",
     "output_type": "stream",
     "text": [
      "O primeiro ponto de AutoInterseccção é [-1.6741485990914973, -1.6741493257423468]\n"
     ]
    }
   ],
   "source": [
    "autointerseccao_1 = autointerseccao(u)\n",
    "print('O primeiro ponto de AutoInterseccção é {0}'.format(autointerseccao_1))"
   ]
  },
  {
   "cell_type": "markdown",
   "id": "fecb3422",
   "metadata": {},
   "source": [
    "<h1> Raciocínio Geral </h1> "
   ]
  },
  {
   "cell_type": "code",
   "execution_count": 12,
   "id": "0f25efad",
   "metadata": {
    "scrolled": true
   },
   "outputs": [
    {
     "name": "stdout",
     "output_type": "stream",
     "text": [
      "A constante é -2.0000000000000004\n",
      "A valor de b para a constante -2.0000000000000004 é 0.8613839999999999\n",
      "A valor de b para a constante -2.0000000000000004 é 6.283185\n",
      "A constante é 2.0\n",
      "A constante é -1.9999999999999976\n",
      "A constante é 0.39999999999999997\n",
      "A valor de b para a constante 0.39999999999999997 é 3.921502\n",
      "A constante é -1.9999999999999998\n",
      "A constante é 2.0\n",
      "A constante é -1.9999999999999964\n"
     ]
    }
   ],
   "source": [
    "lista_k = [1 ,2 , 3, 4 ,5 ,6 , 7 ]\n",
    "lista_b = np.arange(0 , 2*pi , 1e-6)\n",
    "lista_bs = []\n",
    "\n",
    "\n",
    "for k in lista_k:\n",
    "    \n",
    "    a = k * (pi / 2)\n",
    "    \n",
    "    constante = 2 * sin(a / 2 ) / sin(5 * a /2 )\n",
    "    \n",
    "    print('A constante é {0}'.format(constante))\n",
    "    \n",
    "    for b in lista_b: \n",
    "        \n",
    "        equacao = constante *sin(b/2) - sin(-5*b/2)\n",
    "\n",
    "        if equacao < 1e-6 and equacao >= 0 and b!= 0 and b!= 2*pi:\n",
    "            if b not in lista_bs:\n",
    "                lista_bs.append(b)\n",
    "                print('A valor de b para a constante {0} é {1}'.format(constante , b))\n",
    "                \n",
    "    "
   ]
  },
  {
   "cell_type": "code",
   "execution_count": 18,
   "id": "8dc336bf",
   "metadata": {},
   "outputs": [
    {
     "data": {
      "text/plain": [
       "[-1.4280961779272632, 1.688227253888734]"
      ]
     },
     "execution_count": 18,
     "metadata": {},
     "output_type": "execute_result"
    }
   ],
   "source": [
    "u, v = acha_u(2.37)\n",
    "autointerseccao(u)"
   ]
  },
  {
   "cell_type": "code",
   "execution_count": 100,
   "id": "c7c5d9af",
   "metadata": {},
   "outputs": [
    {
     "data": {
      "text/plain": [
       "0.0"
      ]
     },
     "execution_count": 100,
     "metadata": {},
     "output_type": "execute_result"
    }
   ],
   "source": []
  },
  {
   "cell_type": "code",
   "execution_count": null,
   "id": "eac927a0",
   "metadata": {},
   "outputs": [],
   "source": []
  }
 ],
 "metadata": {
  "kernelspec": {
   "display_name": "Python 3 (ipykernel)",
   "language": "python",
   "name": "python3"
  },
  "language_info": {
   "codemirror_mode": {
    "name": "ipython",
    "version": 3
   },
   "file_extension": ".py",
   "mimetype": "text/x-python",
   "name": "python",
   "nbconvert_exporter": "python",
   "pygments_lexer": "ipython3",
   "version": "3.9.13"
  }
 },
 "nbformat": 4,
 "nbformat_minor": 5
}
