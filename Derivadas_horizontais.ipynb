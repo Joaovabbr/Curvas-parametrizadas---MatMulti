{
 "cells": [
  {
   "cell_type": "code",
   "execution_count": 2,
   "metadata": {},
   "outputs": [],
   "source": [
    "import numpy as np\n",
    "from math import cos, sin"
   ]
  },
  {
   "cell_type": "code",
   "execution_count": 3,
   "metadata": {},
   "outputs": [
    {
     "name": "stdout",
     "output_type": "stream",
     "text": [
      "[0.3900000000000002, 0.8900000000000006, 1.5700000000000012, 2.249999999999996, 2.7499999999999853, 3.5299999999999687, 4.0299999999999585, 4.709999999999944, 5.3899999999999295, 5.889999999999919]\n",
      "10\n"
     ]
    },
    {
     "ename": "",
     "evalue": "",
     "output_type": "error",
     "traceback": [
      "\u001b[1;31mThe Kernel crashed while executing code in the current cell or a previous cell. \n",
      "\u001b[1;31mPlease review the code in the cell(s) to identify a possible cause of the failure. \n",
      "\u001b[1;31mClick <a href='https://aka.ms/vscodeJupyterKernelCrash'>here</a> for more info. \n",
      "\u001b[1;31mView Jupyter <a href='command:jupyter.viewOutput'>log</a> for further details."
     ]
    }
   ],
   "source": [
    "t=0\n",
    "vertical=[]\n",
    "\n",
    "while t < 2*np.pi:\n",
    "    dx=2*sin(t) + 5*sin(5*t)\n",
    "    dy=-2*cos(t) - 5*cos(5*t)\n",
    "\n",
    "    if dy<=1e-1 and dy>=-1e-1 and dx!=0:\n",
    "        vertical.append(t)\n",
    "    \n",
    "    t+=0.01\n",
    "\n",
    "print(vertical)\n",
    "print(len(vertical))"
   ]
  },
  {
   "cell_type": "code",
   "execution_count": null,
   "metadata": {},
   "outputs": [],
   "source": []
  }
 ],
 "metadata": {
  "kernelspec": {
   "display_name": "base",
   "language": "python",
   "name": "python3"
  },
  "language_info": {
   "codemirror_mode": {
    "name": "ipython",
    "version": 3
   },
   "file_extension": ".py",
   "mimetype": "text/x-python",
   "name": "python",
   "nbconvert_exporter": "python",
   "pygments_lexer": "ipython3",
   "version": "3.9.13"
  }
 },
 "nbformat": 4,
 "nbformat_minor": 2
}
