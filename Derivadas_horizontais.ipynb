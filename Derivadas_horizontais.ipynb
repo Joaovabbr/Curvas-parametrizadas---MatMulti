{
 "cells": [
  {
   "cell_type": "markdown",
   "metadata": {},
   "source": [
    "# Retas tangentes horizontais a curva"
   ]
  },
  {
   "cell_type": "markdown",
   "metadata": {},
   "source": [
    "### 1. Realizando imports necessário para calculo"
   ]
  },
  {
   "cell_type": "code",
   "execution_count": 3,
   "metadata": {},
   "outputs": [],
   "source": [
    "import numpy as np\n",
    "from math import cos, sin"
   ]
  },
  {
   "cell_type": "markdown",
   "metadata": {},
   "source": [
    "### 2. Descobrindo parametros que satisfazem as condições impostas:\n"
   ]
  },
  {
   "cell_type": "markdown",
   "metadata": {},
   "source": [
    "##### - Condição 1: componente horizontal da reta tangente é diferente de 0\n",
    "##### - condição 2: componente vertical da reta tangente é igual a 0\n"
   ]
  },
  {
   "cell_type": "code",
   "execution_count": 50,
   "metadata": {},
   "outputs": [
    {
     "name": "stdout",
     "output_type": "stream",
     "text": [
      "Os parametros em que a componente vertical (dy) da reta\n",
      "tangente é nula são: \n",
      "[0.39, 0.89, 1.57, 2.25, 2.75, 3.53, 4.03, 4.71, 5.39, 5.89]\n",
      "10\n"
     ]
    }
   ],
   "source": [
    "def dx(t):\n",
    "    return 2*sin(t) + 5*sin(5*t)\n",
    "\n",
    "def dy(t):\n",
    "    return -2*cos(t) - 5*cos(5*t)\n",
    "\n",
    "t=0\n",
    "parametros=[]\n",
    "\n",
    "while t < 2*np.pi:\n",
    "    if dy(t) <= 1e-1 and dy(t) >= -1e-1  and dx(t) !=0:\n",
    "        parametros.append(round(t, 3))\n",
    "    \n",
    "    t+=1e-2\n",
    "\n",
    "print(f'Os parametros em que a componente vertical (dy) da reta\\ntangente é nula são: \\n{parametros}')"
   ]
  },
  {
   "cell_type": "code",
   "execution_count": 51,
   "metadata": {},
   "outputs": [
    {
     "name": "stdout",
     "output_type": "stream",
     "text": [
      "O valor da componente horizontal da reta tangente para t1 = 0.39 é: 5.405\n",
      "\n",
      "O valor da componente horizontal da reta tangente para t2 = 0.89 é: -3.275\n",
      "\n",
      "O valor da componente horizontal da reta tangente para t3 = 1.57 é: 7.0\n",
      "\n",
      "O valor da componente horizontal da reta tangente para t4 = 2.25 é: -3.283\n",
      "\n",
      "O valor da componente horizontal da reta tangente para t5 = 2.75 é: 5.393\n",
      "\n",
      "O valor da componente horizontal da reta tangente para t6 = 3.53 é: -5.417\n",
      "\n",
      "O valor da componente horizontal da reta tangente para t7 = 4.03 é: 3.266\n",
      "\n",
      "O valor da componente horizontal da reta tangente para t8 = 4.71 é: -7.0\n",
      "\n",
      "O valor da componente horizontal da reta tangente para t9 = 5.39 é: 3.291\n",
      "\n",
      "O valor da componente horizontal da reta tangente para t10 = 5.89 é: -5.381\n",
      "\n"
     ]
    }
   ],
   "source": [
    "i = 1\n",
    "for t in parametros:\n",
    "    print(f'O valor da componente horizontal da reta tangente para t{i} = {round(t,3)} é: {round(dx(t),3)}\\n')\n",
    "    i += 1"
   ]
  },
  {
   "cell_type": "markdown",
   "metadata": {},
   "source": [
    "### 2. Encontrando os pontos:\n"
   ]
  },
  {
   "cell_type": "code",
   "execution_count": 52,
   "metadata": {},
   "outputs": [
    {
     "name": "stdout",
     "output_type": "stream",
     "text": [
      "\n",
      "Para o parametro t=0.39, temos o ponto H1 = (-1.48, -1.689) em que a reta tangente é horizontal\n",
      "\n",
      "Para o parametro t=0.89, temos o ponto H2 = (-0.999, -0.588) em que a reta tangente é horizontal\n",
      "\n",
      "Para o parametro t=1.57, temos o ponto H3 = (-0.006, -3.0) em que a reta tangente é horizontal\n",
      "\n",
      "Para o parametro t=2.25, temos o ponto H4 = (1.005, -0.588) em que a reta tangente é horizontal\n",
      "\n",
      "Para o parametro t=2.75, temos o ponto H5 = (1.471, -1.689) em que a reta tangente é horizontal\n",
      "\n",
      "Para o parametro t=3.53, temos o ponto H6 = (1.488, 1.689) em que a reta tangente é horizontal\n",
      "\n",
      "Para o parametro t=4.03, temos o ponto H7 = (0.994, 0.588) em que a reta tangente é horizontal\n",
      "\n",
      "Para o parametro t=4.71, temos o ponto H8 = (0.017, 3.0) em que a reta tangente é horizontal\n",
      "\n",
      "Para o parametro t=5.39, temos o ponto H9 = (-1.01, 0.588) em que a reta tangente é horizontal\n",
      "\n",
      "Para o parametro t=5.89, temos o ponto H10 = (-1.462, 1.689) em que a reta tangente é horizontal\n"
     ]
    }
   ],
   "source": [
    "def x(t):\n",
    "    return -2*cos(t)-cos(5*t)\n",
    "\n",
    "\n",
    "def y(t):\n",
    "    return -2*sin(t) - sin(5*t)\n",
    "\n",
    "i = 1\n",
    "for t in parametros:\n",
    "    print(f'\\nPara o parametro t={round(t,3)}, temos o ponto H{i} = ({round(x(t),3)}, {round(y(t),3)}) em que a reta tangente é horizontal')\n",
    "    i+=1"
   ]
  },
  {
   "cell_type": "code",
   "execution_count": null,
   "metadata": {},
   "outputs": [],
   "source": []
  }
 ],
 "metadata": {
  "kernelspec": {
   "display_name": "base",
   "language": "python",
   "name": "python3"
  },
  "language_info": {
   "codemirror_mode": {
    "name": "ipython",
    "version": 3
   },
   "file_extension": ".py",
   "mimetype": "text/x-python",
   "name": "python",
   "nbconvert_exporter": "python",
   "pygments_lexer": "ipython3",
   "version": "3.9.13"
  }
 },
 "nbformat": 4,
 "nbformat_minor": 2
}
