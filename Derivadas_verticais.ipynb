{
 "cells": [
  {
   "cell_type": "markdown",
   "metadata": {},
   "source": [
    "# Retas tangentes horizontais a curva"
   ]
  },
  {
   "cell_type": "markdown",
   "metadata": {},
   "source": [
    "### 1. Realizando imports necessário para calculo"
   ]
  },
  {
   "cell_type": "code",
   "execution_count": 1,
   "metadata": {},
   "outputs": [],
   "source": [
    "import numpy as np\n",
    "from math import cos, sin"
   ]
  },
  {
   "cell_type": "markdown",
   "metadata": {},
   "source": [
    "### 2. Descobrindo parametros que satisfazem as condições impostas:\n"
   ]
  },
  {
   "cell_type": "markdown",
   "metadata": {},
   "source": [
    "##### - Condição 1:componente vertical da reta tangente é diferente de 0\n",
    "##### - condição 2: componente horizontal da reta tangente é igual a 0\n"
   ]
  },
  {
   "cell_type": "code",
   "execution_count": 2,
   "metadata": {},
   "outputs": [
    {
     "name": "stdout",
     "output_type": "stream",
     "text": [
      "Os parametros em que a componente horizontal (dx) da reta\n",
      "tangente é nula são: \n",
      "[0, 0.679, 1.181, 1.961, 2.462, 3.142, 4.322, 5.102, 5.604, 6.283]\n"
     ]
    }
   ],
   "source": [
    "def dx(t):\n",
    "    return 2*sin(t) + 5*sin(5*t)\n",
    "\n",
    "def dy(t):\n",
    "    return -2*cos(t) - 5*cos(5*t)\n",
    "\n",
    "t=0\n",
    "parametros=[]\n",
    "\n",
    "while t < 2*np.pi:\n",
    "    if dx(t) <= 1e-5 and dx(t) >= -1e-5  and dy(t) !=0:\n",
    "        parametros.append(round(t, 3))\n",
    "    \n",
    "    t+=0.000001 \n",
    "\n",
    "print(f'Os parametros em que a componente horizontal (dx) da reta\\ntangente é nula são: \\n{parametros}')\n"
   ]
  },
  {
   "cell_type": "code",
   "execution_count": 3,
   "metadata": {},
   "outputs": [
    {
     "name": "stdout",
     "output_type": "stream",
     "text": [
      "O valor da componente vertical da reta tangente para t1 = 0 é: -7.0\n",
      "\n",
      "O valor da componente vertical da reta tangente para t2 = 0.679 é: 3.284\n",
      "\n",
      "O valor da componente vertical da reta tangente para t3 = 1.181 é: -5.407\n",
      "\n",
      "O valor da componente vertical da reta tangente para t4 = 1.961 é: 5.404\n",
      "\n",
      "O valor da componente vertical da reta tangente para t5 = 2.462 é: -3.281\n",
      "\n",
      "O valor da componente vertical da reta tangente para t6 = 3.142 é: 7.0\n",
      "\n",
      "O valor da componente vertical da reta tangente para t7 = 4.322 é: 5.402\n",
      "\n",
      "O valor da componente vertical da reta tangente para t8 = 5.102 é: -5.408\n",
      "\n",
      "O valor da componente vertical da reta tangente para t9 = 5.604 é: 3.283\n",
      "\n",
      "O valor da componente vertical da reta tangente para t10 = 6.283 é: -7.0\n",
      "\n"
     ]
    }
   ],
   "source": [
    "i = 1\n",
    "for t in parametros:\n",
    "    print(f'O valor da componente vertical da reta tangente para t{i} = {round(t,3)} é: {round(dy(t),3)}\\n')\n",
    "    i += 1"
   ]
  },
  {
   "cell_type": "markdown",
   "metadata": {},
   "source": [
    "### 2. Encontrando os pontos:\n"
   ]
  },
  {
   "cell_type": "code",
   "execution_count": 4,
   "metadata": {},
   "outputs": [
    {
     "name": "stdout",
     "output_type": "stream",
     "text": [
      "\n",
      "Para o parametro t=0, temos o ponto V1 = (-3.0, -0.0) em que a reta tangente é vertical\n",
      "\n",
      "Para o parametro t=0.679, temos o ponto V2 = (-0.588, -1.005) em que a reta tangente é vertical\n",
      "\n",
      "Para o parametro t=1.181, temos o ponto V3 = (-1.689, -1.481) em que a reta tangente é vertical\n",
      "\n",
      "Para o parametro t=1.961, temos o ponto V4 = (1.689, -1.479) em que a reta tangente é vertical\n",
      "\n",
      "Para o parametro t=2.462, temos o ponto V5 = (0.588, -1.003) em que a reta tangente é vertical\n",
      "\n",
      "Para o parametro t=3.142, temos o ponto V6 = (3.0, 0.003) em que a reta tangente é vertical\n",
      "\n",
      "Para o parametro t=4.322, temos o ponto V7 = (1.689, 1.478) em que a reta tangente é vertical\n",
      "\n",
      "Para o parametro t=5.102, temos o ponto V8 = (-1.689, 1.482) em que a reta tangente é vertical\n",
      "\n",
      "Para o parametro t=5.604, temos o ponto V9 = (-0.588, 1.005) em que a reta tangente é vertical\n",
      "\n",
      "Para o parametro t=6.283, temos o ponto V10 = (-3.0, 0.001) em que a reta tangente é vertical\n"
     ]
    }
   ],
   "source": [
    "def x(t):\n",
    "    return -2*cos(t)-cos(5*t)\n",
    "\n",
    "\n",
    "def y(t):\n",
    "    return -2*sin(t) - sin(5*t)\n",
    "\n",
    "i = 1\n",
    "for t in parametros:\n",
    "    print(f'\\nPara o parametro t={round(t,3)}, temos o ponto V{i} = ({round(x(t),3)}, {round(y(t),3)}) em que a reta tangente é vertical')\n",
    "    i+=1"
   ]
  }
 ],
 "metadata": {
  "kernelspec": {
   "display_name": "base",
   "language": "python",
   "name": "python3"
  },
  "language_info": {
   "codemirror_mode": {
    "name": "ipython",
    "version": 3
   },
   "file_extension": ".py",
   "mimetype": "text/x-python",
   "name": "python",
   "nbconvert_exporter": "python",
   "pygments_lexer": "ipython3",
   "version": "3.9.13"
  }
 },
 "nbformat": 4,
 "nbformat_minor": 2
}
